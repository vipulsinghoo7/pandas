{
 "cells": [
  {
   "cell_type": "markdown",
   "id": "55349264-ee21-4a5d-82c1-94db5c943ff5",
   "metadata": {},
   "source": [
    "# Q1. Create a Pandas Series that contains the following data: 4, 8, 15, 16, 23, and 42. Then, print the series."
   ]
  },
  {
   "cell_type": "code",
   "execution_count": 7,
   "id": "fa06aa16-bbf7-4e7e-9a4b-b5568f37cefd",
   "metadata": {},
   "outputs": [
    {
     "name": "stdout",
     "output_type": "stream",
     "text": [
      "0     4\n",
      "1     8\n",
      "2    15\n",
      "3    16\n",
      "4    23\n",
      "5    42\n",
      "dtype: int64\n"
     ]
    },
    {
     "data": {
      "text/plain": [
       "pandas.core.series.Series"
      ]
     },
     "execution_count": 7,
     "metadata": {},
     "output_type": "execute_result"
    }
   ],
   "source": [
    "import pandas as pd\n",
    "data = [4, 8, 15, 16, 23,42,]\n",
    "df = pd.Series(data)\n",
    "print(df)\n",
    "type(df) "
   ]
  },
  {
   "cell_type": "markdown",
   "id": "4a337bca-e18d-4203-9fdd-ce9a639bba60",
   "metadata": {},
   "source": [
    "# Q2. Create a variable of list type containing 10 elements in it, and apply pandas.Series function on the variable print it."
   ]
  },
  {
   "cell_type": "code",
   "execution_count": 8,
   "id": "e891cf43-25d5-4cd6-993d-7df7854ee4d4",
   "metadata": {},
   "outputs": [
    {
     "name": "stdout",
     "output_type": "stream",
     "text": [
      "0        amit\n",
      "1       sumit\n",
      "2       kunal\n",
      "3      ashish\n",
      "4      akshay\n",
      "5       suraj\n",
      "6     shabbir\n",
      "7     saurabh\n",
      "8    shradhha\n",
      "9      gulnaz\n",
      "dtype: object\n"
     ]
    },
    {
     "data": {
      "text/plain": [
       "pandas.core.series.Series"
      ]
     },
     "execution_count": 8,
     "metadata": {},
     "output_type": "execute_result"
    }
   ],
   "source": [
    "import pandas as pd\n",
    "var =  [\"amit\" , \"sumit\" , \"kunal\" , \"ashish\" , \"akshay\" , \"suraj\" , \"shabbir\" , \"saurabh\" , \"shradhha\" ,\"gulnaz\"]\n",
    "Series = pd.Series(var)\n",
    "print(Series)\n",
    "type(Series)"
   ]
  },
  {
   "cell_type": "markdown",
   "id": "46d7407e-88a6-4960-af79-570600b82bf5",
   "metadata": {},
   "source": [
    "# Q3. Create a Pandas DataFrame that contains the following data: Then, print the DataFrame."
   ]
  },
  {
   "cell_type": "code",
   "execution_count": 2,
   "id": "a35cbb70-7d9f-4755-89ed-730ee551ed6e",
   "metadata": {},
   "outputs": [
    {
     "data": {
      "image/jpeg": "[encoded data removed]",
      "text/plain": [
       "<IPython.core.display.Image object>"
      ]
     },
     "execution_count": 2,
     "metadata": {},
     "output_type": "execute_result"
    }
   ],
   "source": [
    "from IPython.display import Image\n",
    "Image(filename=\"img/table.jpg\")"
   ]
  },
  {
   "cell_type": "code",
   "execution_count": 9,
   "id": "b90ec4e1-e02d-4e8f-b0b1-6b1871f52493",
   "metadata": {},
   "outputs": [
    {
     "name": "stdout",
     "output_type": "stream",
     "text": [
      "     Name  Age  Gender\n",
      "0   Alice   25  Female\n",
      "1     Bob   30    Male\n",
      "2  Claire   27  Female\n"
     ]
    },
    {
     "data": {
      "text/plain": [
       "pandas.core.frame.DataFrame"
      ]
     },
     "execution_count": 9,
     "metadata": {},
     "output_type": "execute_result"
    }
   ],
   "source": [
    "import pandas as pd \n",
    "data = {'Name': ['Alice' ,  'Bob' ,  'Claire'],\n",
    "\n",
    "        'Age': [25, 30, 27],\n",
    "\n",
    "        'Gender': ['Female', 'Male', 'Female']}\n",
    "df = pd.DataFrame(data)\n",
    "print(df)\n",
    "type(df)"
   ]
  },
  {
   "cell_type": "markdown",
   "id": "32150970-0702-4827-bf64-d76f3c041df0",
   "metadata": {},
   "source": [
    "# Q4. What is ‘DataFrame’ in pandas and how is it different from pandas.series? Explain with an example."
   ]
  },
  {
   "cell_type": "markdown",
   "id": "8ffbddbf-eadd-4975-b09d-d022cfc64da0",
   "metadata": {},
   "source": [
    "- In Pandas, a DataFrame is a two-dimensional labeled data structure with columns of potentially different data types. It is similar to a spreadsheet  or a  SQL table. In a DataFrame , data is organized in rows and columns, where each column can be considered as a Pandas Series.\n",
    "\n",
    "- On the other hand, a Series in Pandas is a one-dimensional labeled array that can contain data of any data type, including integers, strings, and floating-point numbers. It is similar to a column in a spreadsheet or a SQL table.\n",
    "\n",
    "- The main difference between a DataFrame and a Series is that a DataFrame is a two-dimensional data structure with rows and columns, while a Series is a one-dimensional data structure with only one column.\n",
    "         \n",
    "* Here's an example to illustrate the difference between a DataFrame and a Series:"
   ]
  },
  {
   "cell_type": "code",
   "execution_count": 10,
   "id": "25b1479a-9cb6-4a67-a455-814941f71cae",
   "metadata": {},
   "outputs": [
    {
     "data": {
      "text/html": [
       "<div>\n",
       "<style scoped>\n",
       "    .dataframe tbody tr th:only-of-type {\n",
       "        vertical-align: middle;\n",
       "    }\n",
       "\n",
       "    .dataframe tbody tr th {\n",
       "        vertical-align: top;\n",
       "    }\n",
       "\n",
       "    .dataframe thead th {\n",
       "        text-align: right;\n",
       "    }\n",
       "</style>\n",
       "<table border=\"1\" class=\"dataframe\">\n",
       "  <thead>\n",
       "    <tr style=\"text-align: right;\">\n",
       "      <th></th>\n",
       "      <th>Name</th>\n",
       "      <th>Age</th>\n",
       "      <th>Gender</th>\n",
       "    </tr>\n",
       "  </thead>\n",
       "  <tbody>\n",
       "    <tr>\n",
       "      <th>0</th>\n",
       "      <td>Alice</td>\n",
       "      <td>25</td>\n",
       "      <td>Female</td>\n",
       "    </tr>\n",
       "    <tr>\n",
       "      <th>1</th>\n",
       "      <td>Bob</td>\n",
       "      <td>30</td>\n",
       "      <td>Male</td>\n",
       "    </tr>\n",
       "    <tr>\n",
       "      <th>2</th>\n",
       "      <td>Claire</td>\n",
       "      <td>27</td>\n",
       "      <td>Female</td>\n",
       "    </tr>\n",
       "  </tbody>\n",
       "</table>\n",
       "</div>"
      ],
      "text/plain": [
       "     Name  Age  Gender\n",
       "0   Alice   25  Female\n",
       "1     Bob   30    Male\n",
       "2  Claire   27  Female"
      ]
     },
     "execution_count": 10,
     "metadata": {},
     "output_type": "execute_result"
    }
   ],
   "source": [
    "# dataframe\n",
    "\n",
    "df"
   ]
  },
  {
   "cell_type": "code",
   "execution_count": 11,
   "id": "a87dccf0-1e82-4a70-a565-88f28f3514aa",
   "metadata": {},
   "outputs": [
    {
     "data": {
      "text/plain": [
       "pandas.core.frame.DataFrame"
      ]
     },
     "execution_count": 11,
     "metadata": {},
     "output_type": "execute_result"
    }
   ],
   "source": [
    "type(df)"
   ]
  },
  {
   "cell_type": "code",
   "execution_count": 12,
   "id": "520f86b9-6411-4212-9c4f-ebf2216b3da2",
   "metadata": {},
   "outputs": [
    {
     "data": {
      "text/plain": [
       "0     Alice\n",
       "1       Bob\n",
       "2    Claire\n",
       "Name: Name, dtype: object"
      ]
     },
     "execution_count": 12,
     "metadata": {},
     "output_type": "execute_result"
    }
   ],
   "source": [
    "df['Name']"
   ]
  },
  {
   "cell_type": "code",
   "execution_count": 13,
   "id": "b8ce0791-fbfb-4041-8151-d9ef22a955eb",
   "metadata": {},
   "outputs": [
    {
     "data": {
      "text/plain": [
       "pandas.core.series.Series"
      ]
     },
     "execution_count": 13,
     "metadata": {},
     "output_type": "execute_result"
    }
   ],
   "source": [
    "type(df['Name'])"
   ]
  },
  {
   "cell_type": "markdown",
   "id": "b51e83ff-84f4-421b-8399-f7f9aca819fe",
   "metadata": {},
   "source": [
    "# Q5. What are some common functions you can use to manipulate data in a Pandas DataFrame? Can you give an example of when you might use one of these functions?"
   ]
  },
  {
   "cell_type": "code",
   "execution_count": null,
   "id": "f67f6f2a-120e-4a24-965c-a23a7257ff47",
   "metadata": {},
   "outputs": [],
   "source": [
    " # 1. head() and tail(): These functions are used to view the first and last n rows of a DataFrame, \n",
    "    #    respectively. They can be useful for quickly getting a sense of what the data looks like.\n",
    "     #   Example:\n",
    "import pandas as pd\n",
    "\n",
    "df = pd.read_csv('data.csv')\n",
    "\n",
    "# View the first 5 rows\n",
    "print(df.head())\n",
    "\n",
    "# View the last 5 rows\n",
    "print(df.tail())\n",
    "    \n",
    "   # 2. describe(): This function provides a statistical summary of the DataFrame, including the count, \n",
    "    #    mean, standard deviation, minimum, and maximum values, among others.\n",
    "     #   Example:\n",
    "import pandas as pd\n",
    "\n",
    "df = pd.read_csv('data.csv')\n",
    "\n",
    "# Get a statistical summary of the DataFrame\n",
    "print(df.describe())\n",
    "\n",
    "# 3. groupby(): This function is used to group data in a DataFrame based on one or more columns. \n",
    "     #   It can be useful for calculating aggregate statistics for different groups.\n",
    "      #  Example:\n",
    "import pandas as pd\n",
    "\n",
    "df = pd.read_csv('data.csv')\n",
    "\n",
    "# Group the data by the 'category' column and calculate the mean of the 'value' column\n",
    "grouped = df.groupby('category').mean()\n",
    "\n",
    "print(grouped)\n",
    "\n",
    " #  4. sort_values(): This function is used to sort the rows of a DataFrame based on one or more columns.\n",
    "    # Example:\n",
    "import pandas as pd\n",
    "\n",
    "df = pd.read_csv('data.csv')\n",
    "\n",
    "# Sort the DataFrame by the 'value' column in descending order\n",
    "sorted_df = df.sort_values('value', ascending=False)\n",
    "\n",
    "print(sorted_df)\n",
    "\n",
    "# 5. fillna(): This function allows you to replace missing values in the DataFrame with a specified value. \n",
    "  # example, df.fillna(0) would replace all missing values in the DataFrame with 0."
   ]
  },
  {
   "cell_type": "markdown",
   "id": "dd342057-c634-4174-8964-4707f76c1ff5",
   "metadata": {},
   "source": [
    "# Q6. Which of the following is mutable in nature Series, DataFrame, Panel?"
   ]
  },
  {
   "cell_type": "markdown",
   "id": "9d8d5c97-6ae0-4c4b-8295-876a26a85c2d",
   "metadata": {},
   "source": [
    "-  In Pandas, both Series and DataFrame are mutable in nature, while Panel is considered deprecated and has been replaced by multi-dimensional arrays, such as numpy.ndarray or xarray.DataArray, which are also mutable.\n",
    "\n",
    "- In a mutable object, the contents of the object can be modified after it is created. This means that you can add, remove, or update elements in a Series or DataFrame after they are created."
   ]
  },
  {
   "cell_type": "markdown",
   "id": "d969c374-9987-4a66-a78b-61efb0f8d93c",
   "metadata": {},
   "source": [
    "# Q7. Create a DataFrame using multiple Series. Explain with an example."
   ]
  },
  {
   "cell_type": "markdown",
   "id": "40a4f7e7-bc63-414a-aafd-d5a6a15d994e",
   "metadata": {},
   "source": [
    "* To create a DataFrame using multiple Series, we can pass a dictionary of Series to the pd.DataFrame() function. Each key in the dictionary will become a column name in the DataFrame, and each value will become a Series in that column.\n",
    "\n",
    "Here is an example:"
   ]
  },
  {
   "cell_type": "code",
   "execution_count": 14,
   "id": "d175626d-3ffe-40f5-8cd3-f91c7725f8ed",
   "metadata": {},
   "outputs": [
    {
     "name": "stdout",
     "output_type": "stream",
     "text": [
      "       Name  Age  Gender\n",
      "0      amit   25    Male\n",
      "1     sumit   30    Male\n",
      "2     kunal   35    Male\n",
      "3  shradhha   40  Female\n",
      "4    gulnaz   45  Female\n"
     ]
    }
   ],
   "source": [
    "# Create a Series for each column of data\n",
    "names = pd.Series([\"amit\" , \"sumit\" , \"kunal\" , \"shradhha\" ,\"gulnaz\"])\n",
    "ages = pd.Series([25, 30, 35, 40, 45])\n",
    "genders = pd.Series(['Male', 'Male', 'Male', 'Female','Female',])\n",
    "\n",
    "# Combine the Series into a DataFrame\n",
    "df = pd.DataFrame({'Name': names, 'Age': ages, 'Gender': genders})\n",
    "\n",
    "# Print the resulting DataFrame\n",
    "print(df)"
   ]
  },
  {
   "cell_type": "code",
   "execution_count": null,
   "id": "05ad569d-0bbd-465f-a632-7e3b89688d13",
   "metadata": {},
   "outputs": [],
   "source": []
  }
 ],
 "metadata": {
  "kernelspec": {
   "display_name": "Python 3 (ipykernel)",
   "language": "python",
   "name": "python3"
  },
  "language_info": {
   "codemirror_mode": {
    "name": "ipython",
    "version": 3
   },
   "file_extension": ".py",
   "mimetype": "text/x-python",
   "name": "python",
   "nbconvert_exporter": "python",
   "pygments_lexer": "ipython3",
   "version": "3.10.8"
  }
 },
 "nbformat": 4,
 "nbformat_minor": 5
}
